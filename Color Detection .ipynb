{
 "cells": [
  {
   "cell_type": "code",
   "execution_count": 1,
   "id": "1f0efdc9-1dc4-44bd-89bd-910c350ad488",
   "metadata": {},
   "outputs": [
    {
     "name": "stdout",
     "output_type": "stream",
     "text": [
      "Requirement already satisfied: opencv-python in c:\\users\\sarvadnya\\anaconda3\\lib\\site-packages (4.11.0.86)\n",
      "Requirement already satisfied: scikit-learn in c:\\users\\sarvadnya\\anaconda3\\lib\\site-packages (1.5.1)\n",
      "Requirement already satisfied: numpy in c:\\users\\sarvadnya\\anaconda3\\lib\\site-packages (1.26.4)\n",
      "Requirement already satisfied: scipy>=1.6.0 in c:\\users\\sarvadnya\\anaconda3\\lib\\site-packages (from scikit-learn) (1.13.1)\n",
      "Requirement already satisfied: joblib>=1.2.0 in c:\\users\\sarvadnya\\anaconda3\\lib\\site-packages (from scikit-learn) (1.4.2)\n",
      "Requirement already satisfied: threadpoolctl>=3.1.0 in c:\\users\\sarvadnya\\anaconda3\\lib\\site-packages (from scikit-learn) (3.5.0)\n"
     ]
    }
   ],
   "source": [
    "!pip install opencv-python scikit-learn numpy"
   ]
  },
  {
   "cell_type": "code",
   "execution_count": null,
   "id": "895d1611-5584-4afc-9b7b-88e41b218401",
   "metadata": {},
   "outputs": [],
   "source": [
    "import cv2\n",
    "import numpy as np\n",
    "from sklearn.cluster import KMeans\n",
    "\n",
    "def get_dominant_color(image, k=1):\n",
    "    # Reshape image to pixels\n",
    "    pixels = image.reshape((-1, 3))\n",
    "    # Apply KMeans to find dominant color\n",
    "    kmeans = KMeans(n_clusters=k, random_state=42)\n",
    "    kmeans.fit(pixels)\n",
    "    return kmeans.cluster_centers_.astype(int)[0]\n",
    "\n",
    "def classify_color(rgb):\n",
    "    r,g,b = rgb\n",
    "    if r > 150 and g < 100 and b < 100:\n",
    "        return \"Red\"\n",
    "    elif g > 150 and r < 100 and b < 100:\n",
    "        return \"Green\"\n",
    "    elif b > 150 and r < 100 and g < 100: \n",
    "        return \"Blue\"\n",
    "    elif r > 200 and g > 200 and b < 100: \n",
    "        return \"Orange\" \n",
    "    elif r > 200 and g > 200 and b < 200: \n",
    "        return \"White\" \n",
    "    elif r < 50 and g < 50 and b < 50: \n",
    "        return \"Black\"\n",
    "    else:\n",
    "        return \"unkown\"\n",
    "\n",
    "cap = cv2.VideoCapture(0)  # Use camera 0\n",
    "\n",
    "while True:\n",
    "    ret, frame = cap.read()\n",
    "    if not ret:\n",
    "        break\n",
    "\n",
    "    # Resize for speed\n",
    "    resized = cv2.resize(frame, (100, 100))\n",
    "    dominant_color = get_dominant_color(resized)\n",
    "    color_name = classify_color(dominant_color)\n",
    "\n",
    "    cv2.putText(frame, f\"Detected Color: {color_name}\", (10, 30),\n",
    "                cv2.FONT_HERSHEY_SIMPLEX, 1, (255, 255, 255), 2)\n",
    "\n",
    "    cv2.imshow(\"Color Detection\", frame)\n",
    "\n",
    "    \n",
    "\n"
   ]
  }
 ],
 "metadata": {
  "kernelspec": {
   "display_name": "Python [conda env:base] *",
   "language": "python",
   "name": "conda-base-py"
  },
  "language_info": {
   "codemirror_mode": {
    "name": "ipython",
    "version": 3
   },
   "file_extension": ".py",
   "mimetype": "text/x-python",
   "name": "python",
   "nbconvert_exporter": "python",
   "pygments_lexer": "ipython3",
   "version": "3.12.7"
  }
 },
 "nbformat": 4,
 "nbformat_minor": 5
}
